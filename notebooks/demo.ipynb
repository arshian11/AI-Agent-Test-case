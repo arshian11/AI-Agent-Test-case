{
 "cells": [
  {
   "cell_type": "markdown",
   "metadata": {},
   "source": [
    "# SSMG Demo: Session-scoped Short-term Memory Graph\n",
    "\n",
    "This notebook demonstrates the SSMG system in action, comparing it with baseline methods.\n",
    "\n",
    "## Overview\n",
    "\n",
    "SSMG maintains a lightweight, ephemeral semantic graph during dialogue sessions to:\n",
    "- Track entities, preferences, intents, and relationships\n",
    "- Generate concise context summaries\n",
    "- Improve consistency and reference resolution\n",
    "- Reduce token usage and latency vs. full-history approaches"
   ]
  },
  {
   "cell_type": "code",
   "execution_count": 7,
   "metadata": {},
   "outputs": [
    {
     "name": "stderr",
     "output_type": "stream",
     "text": [
      "[nltk_data] Downloading package wordnet to\n",
      "[nltk_data]     C:\\Users\\ACER\\AppData\\Roaming\\nltk_data...\n"
     ]
    },
    {
     "data": {
      "text/plain": [
       "True"
      ]
     },
     "execution_count": 7,
     "metadata": {},
     "output_type": "execute_result"
    }
   ],
   "source": [
    "import nltk\n",
    "nltk.download(\"wordnet\")"
   ]
  },
  {
   "cell_type": "code",
   "execution_count": null,
   "metadata": {},
   "outputs": [],
   "source": [
    "import logging\n",
    "\n",
    "logging.basicConfig(\n",
    "    level=logging.DEBUG,\n",
    "    format='%(asctime)s - %(levelname)s - %(message)s',\n",
    "    filename='dialogue_agent.log',  \n",
    "    filemode='w'  \n",
    ")"
   ]
  },
  {
   "cell_type": "code",
   "execution_count": 2,
   "metadata": {},
   "outputs": [
    {
     "name": "stdout",
     "output_type": "stream",
     "text": [
      "SSMG Demo Environment Ready!\n",
      "\n"
     ]
    }
   ],
   "source": [
    "# Import required libraries\n",
    "import sys\n",
    "sys.path.append('../src')\n",
    "sys.path.append('../evaluation')\n",
    "\n",
    "from ssmg.integration import SSMGDialogueAgent\n",
    "from ssmg.summarizer import SummaryConfig\n",
    "from baselines import FullHistoryBaseline, SlidingWindowBaseline\n",
    "import json\n",
    "import pandas as pd\n",
    "import matplotlib.pyplot as plt\n",
    "import seaborn as sns\n",
    "\n",
    "# Configure plotting\n",
    "plt.style.use('default')\n",
    "sns.set_palette(\"husl\")\n",
    "\n",
    "print(\"SSMG Demo Environment Ready!\\n\")"
   ]
  },
  {
   "cell_type": "code",
   "execution_count": 37,
   "metadata": {},
   "outputs": [
    {
     "name": "stdout",
     "output_type": "stream",
     "text": [
      "c:\\Users\\ACER\\Desktop\\ML\\Reseachathon-1.0\\ssmg_project\\notebooks\\../src\\ssmg\\integration.py\n"
     ]
    }
   ],
   "source": [
    "import sys, importlib\n",
    "sys.path.append('../src')\n",
    "import ssmg.integration\n",
    "importlib.reload(ssmg.integration)\n",
    "importlib.reload(ssmg.extractor)\n",
    "importlib.reload(ssmg.graph)\n",
    "\n",
    "print(ssmg.integration.__file__)"
   ]
  },
  {
   "cell_type": "markdown",
   "metadata": {},
   "source": [
    "## 1. Initialize Components\n",
    "\n",
    "Let's set up SSMG and baseline methods for comparison."
   ]
  },
  {
   "cell_type": "code",
   "execution_count": null,
   "metadata": {},
   "outputs": [
    {
     "name": "stdout",
     "output_type": "stream",
     "text": [
      "Initialized SSMG and baseline methods\n",
      "\n"
     ]
    }
   ],
   "source": [
    "from ssmg.integration import GroqAPIInterface\n",
    "import os\n",
    "# llm = WorkingDialogueInterface(model_name=\"huggyllama/llama-7b\")\n",
    "# llm = WorkingDialogueInterface(model_name=\"meta-llama/Llama-3.2-3B\")\n",
    "llm = GroqAPIInterface(api_key=os.environ.get(GROQ_API_KEY))\n",
    "\n",
    "\n",
    "# Initialize SSMG agent\n",
    "ssmg_agent = SSMGDialogueAgent(\n",
    "    llm_interface=llm,\n",
    "    graph_config={\n",
    "        'max_nodes': 50,\n",
    "        'max_ttl_turns': 8,\n",
    "        'decay_rate': 0.05\n",
    "    },\n",
    "    summary_config=SummaryConfig(\n",
    "        max_tokens=200,\n",
    "        max_nodes=16\n",
    "    )\n",
    ")\n",
    "\n",
    "# Initialize baselines\n",
    "full_history = FullHistoryBaseline(llm)\n",
    "sliding_window = SlidingWindowBaseline(llm, window_size=5)\n",
    "\n",
    "print(\"Initialized SSMG and baseline methods\\n\")"
   ]
  },
  {
   "cell_type": "code",
   "execution_count": null,
   "metadata": {},
   "outputs": [],
   "source": []
  },
  {
   "cell_type": "markdown",
   "metadata": {},
   "source": [
    "## 2. Example Dialogue: Food Ordering\n",
    "\n",
    "Let's run through a typical food ordering dialogue that demonstrates SSMG's capabilities."
   ]
  },
  {
   "cell_type": "code",
   "execution_count": null,
   "metadata": {},
   "outputs": [],
   "source": [
    "# Define extended test dialogue - Multi-domain conversation\n",
    "extended_test_dialogue = [\n",
    "    # Hotel booking domain\n",
    "    \"I need to book a hotel room in Cambridge for this weekend.\",\n",
    "    \"I prefer something with free wifi and parking. Budget is not a concern.\",\n",
    "    \"Actually, make that 2 rooms instead of 1. We're traveling with friends.\",\n",
    "    \"Do any of these hotels have a swimming pool?\",\n",
    "    \n",
    "    # Restaurant booking domain  \n",
    "    \"I also need restaurant recommendations near the hotel.\",\n",
    "    \"We want Italian food, but I'm allergic to seafood so no fish dishes.\",\n",
    "    \"Can you book a table for 4 people at 7 PM on Saturday?\",\n",
    "    \"Actually, let's make that 6 people - two more friends are joining us.\",\n",
    "    \n",
    "    # Transportation domain\n",
    "    \"How do we get from the train station to the hotel?\",\n",
    "    \"Is there a taxi service available, or should we use public transport?\",\n",
    "    \"What's the estimated cost for a taxi for 6 people with luggage?\",\n",
    "    \n",
    "    # Constraint consistency testing\n",
    "    \"Just to confirm - the restaurant you suggested doesn't serve seafood, right?\",\n",
    "    \"And the hotel booking is for 2 rooms for this weekend?\",\n",
    "    \"Can you give me a summary of everything we've planned so far?\"\n",
    "]\n",
    "\n",
    "# Alternative: Constraint-heavy dialogue for testing memory persistence\n",
    "constraint_heavy_dialogue = [\n",
    "    \"I want to order food but I have several dietary restrictions.\",\n",
    "    \"I'm vegetarian, allergic to nuts, and I don't eat spicy food.\",\n",
    "    \"Also, I prefer organic ingredients when possible.\",\n",
    "    \"What pizza options do you have that meet these requirements?\",\n",
    "    \"Actually, let me add another restriction - no cheese either, I'm lactose intolerant.\",\n",
    "    \"So to recap: vegetarian, no nuts, no spicy food, organic preferred, and no cheese.\",\n",
    "    \"Do you have any vegan pizza options?\",\n",
    "    \"Can you add some extra vegetables to make it more filling?\",\n",
    "    \"What about the crust - do you have gluten-free options?\",\n",
    "    \"Perfect, let me also order a salad with the same restrictions.\",\n",
    "    \"Make sure the salad dressing doesn't contain nuts or dairy.\",\n",
    "    \"What's the total for everything, and how long will delivery take?\"\n",
    "]\n",
    "\n",
    "# Complex multi-turn scenario with context switching\n",
    "complex_scenario_dialogue = [\n",
    "    # Initial request\n",
    "    \"I'm planning a business trip to London next month.\",\n",
    "    \"I need a hotel near the financial district for 3 nights.\",\n",
    "    \"The company will reimburse up to £200 per night.\",\n",
    "    \n",
    "    # Adding complexity\n",
    "    \"I'll also need meeting rooms for client presentations.\",\n",
    "    \"The hotel should have business center facilities and reliable internet.\",\n",
    "    \n",
    "    # Context switch and constraint addition\n",
    "    \"Actually, I just found out my colleague is joining me.\",\n",
    "    \"So I need 2 rooms now, both with the same requirements.\",\n",
    "    \"But my colleague is in a wheelchair, so we need accessible rooms.\",\n",
    "    \n",
    "    # Restaurant planning\n",
    "    \"We'll also need restaurant recommendations for business dinners.\",\n",
    "    \"Somewhere upscale but not too expensive - around £50 per person max.\",\n",
    "    \"My client is Muslim, so we need halal options or at least no pork.\",\n",
    "    \n",
    "    # Transportation and logistics\n",
    "    \"How should we get from Heathrow to the hotel?\",\n",
    "    \"Is there a direct train or should we take a taxi?\",\n",
    "    \"We'll have laptop bags and one small suitcase each.\",\n",
    "    \n",
    "    # Confirmation and summary\n",
    "    \"Can you summarize all our requirements?\",\n",
    "    \"And what's the estimated total cost for accommodation and meals?\",\n",
    "    \"Is everything I mentioned still being considered in your recommendations?\"\n",
    "]\n",
    "\n",
    "# Intent and entity extraction test\n",
    "intent_entity_test_dialogue = [\n",
    "    \"Book me a flight to New York for December 15th.\",\n",
    "    \"Actually, make that a round trip returning on December 22nd.\",\n",
    "    \"I prefer morning flights if possible.\",\n",
    "    \"Can you also find hotels near Times Square?\",\n",
    "    \"I need a non-smoking room with a city view.\",\n",
    "    \"What's the weather like in New York in December?\",\n",
    "    \"Should I pack winter clothes?\",\n",
    "    \"Cancel the hotel booking - I'll stay with friends instead.\",\n",
    "    \"But keep the flight reservation.\",\n",
    "    \"Actually, can you change the return date to December 20th?\",\n",
    "    \"And add travel insurance to the booking.\",\n",
    "    \"What documents do I need for domestic travel?\",\n",
    "    \"Send me a confirmation email with all the details.\"\n",
    "]\n",
    "\n",
    "# Memory eviction and persistence test (longer dialogue)\n",
    "memory_persistence_test = [\n",
    "    \"I'm organizing a wedding for next summer.\",\n",
    "    \"We need a venue that can accommodate 150 guests.\",\n",
    "    \"The bride is vegetarian and the groom has a nut allergy.\",\n",
    "    \"We want an outdoor ceremony if weather permits.\",\n",
    "    \"The reception should have a dance floor and live music setup.\",\n",
    "    \"Budget is around $20,000 for the venue and catering.\",\n",
    "    \"The wedding date is tentatively set for June 15th.\",\n",
    "    \"We also need a photographer who specializes in outdoor weddings.\",\n",
    "    \"The bride wants a vintage theme with pastel colors.\",\n",
    "    \"Can you recommend florists who work with peonies and roses?\",\n",
    "    \"We need transportation for elderly relatives from the hotel.\",\n",
    "    \"The wedding cake should be dairy-free due to allergies.\",\n",
    "    \"Are there any good honeymoon destinations for a July departure?\",\n",
    "    \"We prefer somewhere tropical but not too crowded.\",\n",
    "    \"The couple loves snorkeling and hiking.\",\n",
    "    \"Budget for honeymoon is separate - around $5,000.\",\n",
    "    \"Can you check if the venue is available on June 22nd as backup?\",\n",
    "    \"Also, we need a backup indoor option in case of rain.\",\n",
    "    \"The catering should include several vegetarian main courses.\",\n",
    "    \"Remember, absolutely no nuts in any of the food.\",\n",
    "    \"Can you summarize all our wedding requirements so far?\",\n",
    "    \"And remind me what our budget breakdown looks like?\"\n",
    "]\n"
   ]
  },
  {
   "cell_type": "code",
   "execution_count": 29,
   "metadata": {},
   "outputs": [
    {
     "name": "stdout",
     "output_type": "stream",
     "text": [
      "Test Dialogue:\n",
      "1. User: I want to order a pizza. But please don't use onions.\n",
      "2. User: Add garlic bread too.\n",
      "3. User: Actually, change it to pasta.\n",
      "4. User: Make sure no onions in the pasta either.\n",
      "5. User: What's the total cost estimate using popular measure?\n"
     ]
    }
   ],
   "source": [
    "# Define test dialogue\n",
    "test_dialogue = [\n",
    "    \"I want to order a pizza. But please don't use onions.\",\n",
    "    \"Add garlic bread too.\",\n",
    "    \"Actually, change it to pasta.\",\n",
    "    \"Make sure no onions in the pasta either.\",\n",
    "    \"What's the total cost estimate using popular measure?\"\n",
    "]\n",
    "\n",
    "# test_dialogue = [\n",
    "#     \"I want to order a pizza. But please don't use onions.\"\n",
    "# ]\n",
    "\n",
    "print(\"Test Dialogue:\")\n",
    "for i, turn in enumerate(test_dialogue, 1):\n",
    "    print(f\"{i}. User: {turn}\")"
   ]
  },
  {
   "cell_type": "markdown",
   "metadata": {},
   "source": [
    "## 3. Run SSMG\n",
    "\n",
    "Process the dialogue with SSMG and observe the graph evolution."
   ]
  },
  {
   "cell_type": "code",
   "execution_count": 39,
   "metadata": {},
   "outputs": [
    {
     "name": "stdout",
     "output_type": "stream",
     "text": [
      "Started SSMG session: demo_session\n",
      "\n",
      "=== Turn 1 ===\n",
      "User: I want to order a pizza. But please don't use onions.\n",
      "Assistant: I'd be happy to help you order a pizza. What kind of crust would you like (thin, thick, gluten-free, etc.) and what toppings would you prefer (e.g. meats, vegetables, cheese)? I'll make sure to exclude onions from your order.\n",
      "Context tokens: 3\n",
      "Latency: 22.161s\n",
      "Graph size: 6 nodes added\n",
      "Current Context: No context available.\n",
      "\n",
      "=== Turn 2 ===\n",
      "User: Add garlic bread too.\n",
      "Assistant: I've added garlic bread to your order. Would you like to make any other additions or proceed with the current order?\n",
      "Context tokens: 3\n",
      "Latency: 0.230s\n",
      "Graph size: 3 nodes added\n",
      "Current Context: No context available.\n",
      "\n",
      "=== Turn 3 ===\n",
      "User: Actually, change it to pasta.\n",
      "Assistant: I'd be happy to make that change for you. What was the original item that you'd like to change to pasta?\n",
      "Context tokens: 3\n",
      "Latency: 10.911s\n",
      "Graph size: 3 nodes added\n",
      "Current Context: No context available.\n",
      "\n",
      "=== Turn 4 ===\n",
      "User: Make sure no onions in the pasta either.\n",
      "Assistant: I've made a note of that. To confirm, you would like to order a pasta dish with no onions, correct? I'll make sure to let the kitchen know to exclude onions from the sauce and any other ingredients. Would you like to choose a specific type of pasta or sauce, or would you like me to recommend some options?\n",
      "Context tokens: 3\n",
      "Latency: 0.403s\n",
      "Graph size: 2 nodes added\n",
      "Current Context: No context available.\n",
      "\n",
      "=== Turn 5 ===\n",
      "User: What's the total cost estimate using popular measure?\n",
      "Assistant: To provide a total cost estimate, I'll need more information about the project or item you're referring to. Could you please provide more details, such as:\n",
      "\n",
      "1. What is the project or item?\n",
      "2. What are the materials or services involved?\n",
      "3. Are there any specific requirements or constraints?\n",
      "\n",
      "Once I have this information, I can help you estimate the total cost using popular measures, such as:\n",
      "\n",
      "* Bottom-up estimating\n",
      "* Top-down estimating\n",
      "* Parametric estimating\n",
      "* Analogous estimating\n",
      "* Three-point estimating\n",
      "\n",
      "Please provide more context, and I'll do my best to assist you with a total cost estimate.\n",
      "Context tokens: 3\n",
      "Latency: 0.450s\n",
      "Graph size: 6 nodes added\n",
      "Current Context: No context available.\n",
      "\n",
      "Session ended. Total turns: 5\n"
     ]
    }
   ],
   "source": [
    "# Start SSMG session\n",
    "session_id = ssmg_agent.start_session(\"demo_session\")\n",
    "print(f\"Started SSMG session: {session_id}\\n\")\n",
    "\n",
    "ssmg_results = []\n",
    "\n",
    "for i, user_input in enumerate(test_dialogue, 1):\n",
    "    print(f\"=== Turn {i} ===\")\n",
    "    print(f\"User: {user_input}\")\n",
    "    \n",
    "    # Process turn\n",
    "    response, metrics = ssmg_agent.process_turn(user_input)\n",
    "    \n",
    "    # Show response and metrics\n",
    "    print(f\"Assistant: {response}\")\n",
    "    print(f\"Context tokens: {metrics.context_tokens}\")\n",
    "    print(f\"Latency: {metrics.total_time:.3f}s\")\n",
    "    print(f\"Graph size: {metrics.nodes_added} nodes added\")\n",
    "    \n",
    "    # Get current graph summary for debugging\n",
    "    current_summary = ssmg_agent.summarizer.summarize(ssmg_agent.graph)\n",
    "    print(f\"Current Context: {current_summary}\")\n",
    "    print()\n",
    "    \n",
    "    ssmg_results.append({\n",
    "        'turn': i,\n",
    "        'user_input': user_input,\n",
    "        'response': response,\n",
    "        'context_tokens': metrics.context_tokens,\n",
    "        'latency': metrics.total_time,\n",
    "        'summary': current_summary\n",
    "    })\n",
    "\n",
    "# End session\n",
    "# final_session = ssmg_agent.end_session()\n",
    "print(f\"Session ended. Total turns: {len(ssmg_results)}\")"
   ]
  },
  {
   "cell_type": "markdown",
   "metadata": {},
   "source": [
    "## 4. Run Baselines\n",
    "\n",
    "Compare with full-history and sliding-window approaches."
   ]
  },
  {
   "cell_type": "code",
   "execution_count": 10,
   "metadata": {},
   "outputs": [
    {
     "name": "stdout",
     "output_type": "stream",
     "text": [
      "=== Full History Baseline ===\n",
      "\n",
      "Turn 1: 59 tokens, 0.426s\n",
      "Turn 2: 136 tokens, 0.420s\n",
      "Turn 3: 245 tokens, 0.950s\n",
      "Turn 4: 401 tokens, 0.444s\n",
      "Turn 5: 562 tokens, 0.565s\n",
      "\n",
      "=== Sliding Window Baseline ===\n",
      "\n",
      "Turn 1: 59 tokens, 0.240s\n",
      "Turn 2: 123 tokens, 0.420s\n",
      "Turn 3: 240 tokens, 0.519s\n",
      "Turn 4: 399 tokens, 0.454s\n",
      "Turn 5: 560 tokens, 0.402s\n"
     ]
    }
   ],
   "source": [
    "# Run Full History Baseline\n",
    "print(\"=== Full History Baseline ===\\n\")\n",
    "full_history.reset()\n",
    "full_history_results = []\n",
    "\n",
    "for i, user_input in enumerate(test_dialogue, 1):\n",
    "    result = full_history.process_turn(user_input)\n",
    "    print(f\"Turn {i}: {result.context_tokens} tokens, {result.latency:.3f}s\")\n",
    "    full_history_results.append({\n",
    "        'turn': i,\n",
    "        'method': 'full_history',\n",
    "        'context_tokens': result.context_tokens,\n",
    "        'latency': result.latency\n",
    "    })\n",
    "\n",
    "print()\n",
    "\n",
    "# Run Sliding Window Baseline\n",
    "print(\"=== Sliding Window Baseline ===\\n\")\n",
    "sliding_window.reset()\n",
    "sliding_window_results = []\n",
    "\n",
    "for i, user_input in enumerate(test_dialogue, 1):\n",
    "    result = sliding_window.process_turn(user_input)\n",
    "    print(f\"Turn {i}: {result.context_tokens} tokens, {result.latency:.3f}s\")\n",
    "    sliding_window_results.append({\n",
    "        'turn': i,\n",
    "        'method': 'sliding_window',\n",
    "        'context_tokens': result.context_tokens,\n",
    "        'latency': result.latency\n",
    "    })"
   ]
  },
  {
   "cell_type": "markdown",
   "metadata": {},
   "source": [
    "## 5. Performance Comparison\n",
    "\n",
    "Visualize the efficiency gains of SSMG vs. baselines."
   ]
  },
  {
   "cell_type": "code",
   "execution_count": 11,
   "metadata": {},
   "outputs": [
    {
     "data": {
      "image/png": "[encoded data removed]",
      "text/plain": [
       "<Figure size 1500x600 with 2 Axes>"
      ]
     },
     "metadata": {},
     "output_type": "display_data"
    },
    {
     "name": "stdout",
     "output_type": "stream",
     "text": [
      "\n",
      "=== Performance Summary ===\n",
      "               context_tokens          latency       \n",
      "                         mean      std    mean    std\n",
      "method                                               \n",
      "SSMG                     29.0    7.450   0.398  0.204\n",
      "full_history            280.6  203.080   0.561  0.225\n",
      "sliding_window          276.2  204.682   0.407  0.103\n"
     ]
    }
   ],
   "source": [
    "# Prepare comparison data\n",
    "comparison_data = []\n",
    "\n",
    "for i, result in enumerate(ssmg_results):\n",
    "    comparison_data.append({\n",
    "        'turn': result['turn'],\n",
    "        'method': 'SSMG',\n",
    "        'context_tokens': result['context_tokens'],\n",
    "        'latency': result['latency']\n",
    "    })\n",
    "\n",
    "comparison_data.extend(full_history_results)\n",
    "comparison_data.extend(sliding_window_results)\n",
    "\n",
    "df = pd.DataFrame(comparison_data)\n",
    "\n",
    "# Create comparison plots\n",
    "fig, axes = plt.subplots(1, 2, figsize=(15, 6))\n",
    "\n",
    "# Token usage over turns\n",
    "for method in ['SSMG', 'full_history', 'sliding_window']:\n",
    "    method_data = df[df['method'] == method]\n",
    "    axes[0].plot(method_data['turn'], method_data['context_tokens'], \n",
    "                marker='o', label=method, linewidth=2, markersize=6)\n",
    "\n",
    "axes[0].set_xlabel('Turn Number')\n",
    "axes[0].set_ylabel('Context Tokens')\n",
    "axes[0].set_title('Context Token Usage Over Time')\n",
    "axes[0].legend()\n",
    "axes[0].grid(True, alpha=0.3)\n",
    "\n",
    "# Latency comparison\n",
    "for method in ['SSMG', 'full_history', 'sliding_window']:\n",
    "    method_data = df[df['method'] == method]\n",
    "    axes[1].plot(method_data['turn'], method_data['latency'], \n",
    "                marker='s', label=method, linewidth=2, markersize=6)\n",
    "\n",
    "axes[1].set_xlabel('Turn Number')\n",
    "axes[1].set_ylabel('Latency (seconds)')\n",
    "axes[1].set_title('Response Latency Over Time')\n",
    "axes[1].legend()\n",
    "axes[1].grid(True, alpha=0.3)\n",
    "\n",
    "plt.tight_layout()\n",
    "plt.show()\n",
    "\n",
    "# Print summary statistics\n",
    "print(\"\\n=== Performance Summary ===\")\n",
    "summary_stats = df.groupby('method').agg({\n",
    "    'context_tokens': ['mean', 'std'],\n",
    "    'latency': ['mean', 'std']\n",
    "}).round(3)\n",
    "\n",
    "print(summary_stats)"
   ]
  },
  {
   "cell_type": "markdown",
   "metadata": {},
   "source": [
    "## 6. Graph Visualization\n",
    "\n",
    "Let's examine the internal structure of the SSMG graph."
   ]
  },
  {
   "cell_type": "code",
   "execution_count": 40,
   "metadata": {},
   "outputs": [
    {
     "name": "stdout",
     "output_type": "stream",
     "text": [
      "Graph contains 20 nodes and 0 edges\n",
      "\n",
      "=== Graph Nodes ===\n",
      "entity: pizza (confidence: 0.35, turn: 0)\n",
      "entity: onions (confidence: 0.50, turn: 3)\n",
      "intent: order (confidence: 0.10, turn: 0)\n",
      "constraint: avoid: onions (confidence: 0.80, turn: 3)\n",
      "fact: a pizza (confidence: 0.25, turn: 0)\n",
      "fact: onions (confidence: 0.25, turn: 0)\n",
      "entity: bread (confidence: 0.40, turn: 1)\n",
      "intent: add (confidence: 0.10, turn: 1)\n",
      "fact: garlic bread (confidence: 0.30, turn: 1)\n",
      "entity: pasta (confidence: 0.55, turn: 3)\n",
      "intent: modify (confidence: 0.18, turn: 2)\n",
      "fact: pasta (confidence: 0.45, turn: 3)\n",
      "intent: remove (confidence: 0.10, turn: 3)\n",
      "fact: no onions (confidence: 0.40, turn: 3)\n",
      "entity: cost (confidence: 0.55, turn: 4)\n",
      "entity: estimate (confidence: 0.55, turn: 4)\n",
      "entity: measure (confidence: 0.55, turn: 4)\n",
      "intent: question (confidence: 0.24, turn: 4)\n",
      "fact: the total cost estimate (confidence: 0.45, turn: 4)\n",
      "fact: popular measure (confidence: 0.45, turn: 4)\n",
      "\n",
      "=== Graph Edges ===\n",
      "\n",
      "=== Current Context Summary ===\n",
      "No context available.\n"
     ]
    },
    {
     "data": {
      "text/plain": [
       "DialogueSession(session_id='demo_session', start_time=datetime.datetime(2025, 10, 6, 13, 36, 18, 843837), turns=[{'turn_id': 0, 'user_input': \"I want to order a pizza. But please don't use onions.\", 'assistant_response': \"I'd be happy to help you order a pizza. What kind of crust would you like (thin, thick, gluten-free, etc.) and what toppings would you prefer (e.g. meats, vegetables, cheese)? I'll make sure to exclude onions from your order.\", 'summary': 'No context available.', 'extraction_result': {'nodes': 6, 'edges': 0, 'confidence': 0.5722222222222222}, 'graph_state': {'total_nodes': 6, 'total_edges': 0, 'current_turn': 1}, 'timestamp': '2025-10-06T13:36:41.007241'}, {'turn_id': 1, 'user_input': 'Add garlic bread too.', 'assistant_response': \"I've added garlic bread to your order. Would you like to make any other additions or proceed with the current order?\", 'summary': 'No context available.', 'extraction_result': {'nodes': 3, 'edges': 0, 'confidence': 0.4222222222222222}, 'graph_state': {'total_nodes': 9, 'total_edges': 0, 'current_turn': 2}, 'timestamp': '2025-10-06T13:36:41.238154'}, {'turn_id': 2, 'user_input': 'Actually, change it to pasta.', 'assistant_response': \"I'd be happy to make that change for you. What was the original item that you'd like to change to pasta?\", 'summary': 'No context available.', 'extraction_result': {'nodes': 3, 'edges': 0, 'confidence': 0.4777777777777778}, 'graph_state': {'total_nodes': 12, 'total_edges': 0, 'current_turn': 3}, 'timestamp': '2025-10-06T13:36:52.149882'}, {'turn_id': 3, 'user_input': 'Make sure no onions in the pasta either.', 'assistant_response': \"I've made a note of that. To confirm, you would like to order a pasta dish with no onions, correct? I'll make sure to let the kitchen know to exclude onions from the sauce and any other ingredients. Would you like to choose a specific type of pasta or sauce, or would you like me to recommend some options?\", 'summary': 'No context available.', 'extraction_result': {'nodes': 6, 'edges': 0, 'confidence': 0.5499999999999999}, 'graph_state': {'total_nodes': 14, 'total_edges': 0, 'current_turn': 4}, 'timestamp': '2025-10-06T13:36:52.554171'}, {'turn_id': 4, 'user_input': \"What's the total cost estimate using popular measure?\", 'assistant_response': \"To provide a total cost estimate, I'll need more information about the project or item you're referring to. Could you please provide more details, such as:\\n\\n1. What is the project or item?\\n2. What are the materials or services involved?\\n3. Are there any specific requirements or constraints?\\n\\nOnce I have this information, I can help you estimate the total cost using popular measures, such as:\\n\\n* Bottom-up estimating\\n* Top-down estimating\\n* Parametric estimating\\n* Analogous estimating\\n* Three-point estimating\\n\\nPlease provide more context, and I'll do my best to assist you with a total cost estimate.\", 'summary': 'No context available.', 'extraction_result': {'nodes': 6, 'edges': 0, 'confidence': 0.5142857142857142}, 'graph_state': {'total_nodes': 20, 'total_edges': 0, 'current_turn': 5}, 'timestamp': '2025-10-06T13:36:53.006518'}], metrics=[TurnMetrics(turn_id=0, extraction_time=0.03402137756347656, summarization_time=0.00042700767517089844, llm_time=22.125117301940918, total_time=22.160640954971313, input_tokens=60, output_tokens=56, context_tokens=3, summary_length=21, nodes_added=6, edges_added=0, nodes_evicted=0), TurnMetrics(turn_id=1, extraction_time=0.015278816223144531, summarization_time=0.0002543926239013672, llm_time=0.21365976333618164, total_time=0.22976183891296387, input_tokens=51, output_tokens=25, context_tokens=3, summary_length=21, nodes_added=3, edges_added=0, nodes_evicted=0), TurnMetrics(turn_id=2, extraction_time=0.010253429412841797, summarization_time=0.0001914501190185547, llm_time=10.899662733078003, total_time=10.910537719726562, input_tokens=53, output_tokens=26, context_tokens=3, summary_length=21, nodes_added=3, edges_added=0, nodes_evicted=0), TurnMetrics(turn_id=3, extraction_time=0.018198490142822266, summarization_time=0.00027441978454589844, llm_time=0.3835906982421875, total_time=0.402940034866333, input_tokens=55, output_tokens=69, context_tokens=3, summary_length=21, nodes_added=2, edges_added=0, nodes_evicted=0), TurnMetrics(turn_id=4, extraction_time=0.016701936721801758, summarization_time=0.0003218650817871094, llm_time=0.43213748931884766, total_time=0.44997406005859375, input_tokens=56, output_tokens=128, context_tokens=3, summary_length=21, nodes_added=6, edges_added=0, nodes_evicted=0)], user_id='user', metadata={})"
      ]
     },
     "execution_count": 40,
     "metadata": {},
     "output_type": "execute_result"
    }
   ],
   "source": [
    "# Create a fresh session to examine graph structure\n",
    "# demo_agent = SSMGDialogueAgent(llm_interface=llm)\n",
    "# demo_agent.start_session(\"graph_demo\")\n",
    "\n",
    "# # Process a few turns to build up the graph\n",
    "# demo_turns = [\n",
    "#     \"I want pizza but no onions\",\n",
    "#     \"Add extra cheese\",\n",
    "#     \"Change to pasta instead\"\n",
    "# ]\n",
    "\n",
    "# for turn in demo_turns:\n",
    "#     demo_agent.process_turn(turn)\n",
    "demo_agent = ssmg_agent\n",
    "# Examine graph structure\n",
    "graph = demo_agent.graph\n",
    "print(f\"Graph contains {len(graph.nodes)} nodes and {len(graph.edges)} edges\\n\")\n",
    "\n",
    "print(\"=== Graph Nodes ===\")\n",
    "for node_id, node in graph.nodes.items():\n",
    "    print(f\"{node.type.value}: {node.content} (confidence: {node.confidence:.2f}, turn: {node.turn_id})\")\n",
    "\n",
    "print(\"\\n=== Graph Edges ===\")\n",
    "for edge_id, edge in graph.edges.items():\n",
    "    source_content = graph.nodes[edge.source_id].content\n",
    "    target_content = graph.nodes[edge.target_id].content\n",
    "    print(f\"{source_content} --[{edge.relation.value}]--> {target_content}\")\n",
    "\n",
    "# Show current summary\n",
    "current_summary = demo_agent.summarizer.summarize(graph)\n",
    "print(f\"\\n=== Current Context Summary ===\")\n",
    "print(current_summary)\n",
    "\n",
    "demo_agent.end_session()"
   ]
  },
  {
   "cell_type": "markdown",
   "metadata": {},
   "source": [
    "## 7. Constraint Adherence Demo\n",
    "\n",
    "Demonstrate how SSMG maintains user constraints across multiple turns."
   ]
  },
  {
   "cell_type": "code",
   "execution_count": 13,
   "metadata": {},
   "outputs": [
    {
     "name": "stdout",
     "output_type": "stream",
     "text": [
      "=== Constraint Adherence Test ===\n",
      "\n",
      "Turn 1:\n",
      "User: I'm allergic to nuts and don't like onions\n",
      "Assistant: Considering your allergy to nuts, I'll make sure to avoid those completely. And since you don't like onions, I'll exclude those as well. Can you tell me what you're looking for (e.g., a recipe, food suggestions, etc.) so I can provide you with some safe and onion-free options?\n"
     ]
    },
    {
     "ename": "AttributeError",
     "evalue": "'SSMGGraph' object has no attribute 'NodeType'",
     "output_type": "error",
     "traceback": [
      "\u001b[31m---------------------------------------------------------------------------\u001b[39m",
      "\u001b[31mAttributeError\u001b[39m                            Traceback (most recent call last)",
      "\u001b[36mCell\u001b[39m\u001b[36m \u001b[39m\u001b[32mIn[13]\u001b[39m\u001b[32m, line 22\u001b[39m\n\u001b[32m     19\u001b[39m \u001b[38;5;28mprint\u001b[39m(\u001b[33mf\u001b[39m\u001b[33m\"\u001b[39m\u001b[33mAssistant: \u001b[39m\u001b[38;5;132;01m{\u001b[39;00mresponse\u001b[38;5;132;01m}\u001b[39;00m\u001b[33m\"\u001b[39m)\n\u001b[32m     21\u001b[39m \u001b[38;5;66;03m# Show current constraints in graph\u001b[39;00m\n\u001b[32m---> \u001b[39m\u001b[32m22\u001b[39m constraints = constraint_agent.graph.get_nodes_by_type(\u001b[43mconstraint_agent\u001b[49m\u001b[43m.\u001b[49m\u001b[43mgraph\u001b[49m\u001b[43m.\u001b[49m\u001b[43mNodeType\u001b[49m.CONSTRAINT)\n\u001b[32m     23\u001b[39m \u001b[38;5;28;01mif\u001b[39;00m constraints:\n\u001b[32m     24\u001b[39m     \u001b[38;5;28mprint\u001b[39m(\u001b[33mf\u001b[39m\u001b[33m\"\u001b[39m\u001b[33mActive constraints: \u001b[39m\u001b[38;5;132;01m{\u001b[39;00m[c.content\u001b[38;5;250m \u001b[39m\u001b[38;5;28;01mfor\u001b[39;00m\u001b[38;5;250m \u001b[39mc\u001b[38;5;250m \u001b[39m\u001b[38;5;129;01min\u001b[39;00m\u001b[38;5;250m \u001b[39mconstraints]\u001b[38;5;132;01m}\u001b[39;00m\u001b[33m\"\u001b[39m)\n",
      "\u001b[31mAttributeError\u001b[39m: 'SSMGGraph' object has no attribute 'NodeType'"
     ]
    }
   ],
   "source": [
    "# Test constraint persistence\n",
    "constraint_agent = SSMGDialogueAgent(llm_interface=llm)\n",
    "constraint_agent.start_session(\"constraint_demo\")\n",
    "\n",
    "constraint_dialogue = [\n",
    "    \"I'm allergic to nuts and don't like onions\",\n",
    "    \"What pasta dishes do you recommend?\",\n",
    "    \"How about the pesto pasta?\",\n",
    "    \"What ingredients are in that?\"\n",
    "]\n",
    "\n",
    "print(\"=== Constraint Adherence Test ===\\n\")\n",
    "\n",
    "for i, user_input in enumerate(constraint_dialogue, 1):\n",
    "    print(f\"Turn {i}:\")\n",
    "    print(f\"User: {user_input}\")\n",
    "    \n",
    "    response, metrics = constraint_agent.process_turn(user_input)\n",
    "    print(f\"Assistant: {response}\")\n",
    "    \n",
    "    # Show current constraints in graph\n",
    "    constraints = constraint_agent.graph.get_nodes_by_type(constraint_agent.graph.NodeType.CONSTRAINT)\n",
    "    if constraints:\n",
    "        print(f\"Active constraints: {[c.content for c in constraints]}\")\n",
    "    \n",
    "    print()\n",
    "\n",
    "constraint_agent.end_session()"
   ]
  },
  {
   "cell_type": "markdown",
   "metadata": {},
   "source": [
    "## 8. Token Efficiency Analysis\n",
    "\n",
    "Analyze token savings compared to full-history approach."
   ]
  },
  {
   "cell_type": "code",
   "execution_count": 14,
   "metadata": {},
   "outputs": [
    {
     "name": "stdout",
     "output_type": "stream",
     "text": [
      "=== Token Efficiency Comparison ===\n",
      "SSMG total tokens: 145\n",
      "Full History total tokens: 1403\n",
      "Sliding Window total tokens: 1381\n",
      "\n",
      "Token savings vs Full History: 89.7%\n",
      "Token savings vs Sliding Window: 89.5%\n"
     ]
    },
    {
     "data": {
      "image/png": "[encoded data removed]",
      "text/plain": [
       "<Figure size 1000x600 with 1 Axes>"
      ]
     },
     "metadata": {},
     "output_type": "display_data"
    }
   ],
   "source": [
    "# Calculate token savings\n",
    "ssmg_total_tokens = sum(r['context_tokens'] for r in ssmg_results)\n",
    "full_history_total_tokens = sum(r['context_tokens'] for r in full_history_results)\n",
    "sliding_window_total_tokens = sum(r['context_tokens'] for r in sliding_window_results)\n",
    "\n",
    "print(\"=== Token Efficiency Comparison ===\")\n",
    "print(f\"SSMG total tokens: {ssmg_total_tokens}\")\n",
    "print(f\"Full History total tokens: {full_history_total_tokens}\")\n",
    "print(f\"Sliding Window total tokens: {sliding_window_total_tokens}\")\n",
    "\n",
    "savings_vs_full = (full_history_total_tokens - ssmg_total_tokens) / full_history_total_tokens * 100\n",
    "savings_vs_sliding = (sliding_window_total_tokens - ssmg_total_tokens) / sliding_window_total_tokens * 100\n",
    "\n",
    "print(f\"\\nToken savings vs Full History: {savings_vs_full:.1f}%\")\n",
    "print(f\"Token savings vs Sliding Window: {savings_vs_sliding:.1f}%\")\n",
    "\n",
    "# Create savings visualization\n",
    "methods = ['Full History', 'Sliding Window', 'SSMG']\n",
    "token_counts = [full_history_total_tokens, sliding_window_total_tokens, ssmg_total_tokens]\n",
    "\n",
    "plt.figure(figsize=(10, 6))\n",
    "bars = plt.bar(methods, token_counts, color=['#ff7f7f', '#7fbfff', '#7fff7f'])\n",
    "plt.title('Total Token Usage Comparison')\n",
    "plt.ylabel('Total Context Tokens')\n",
    "\n",
    "# Add value labels on bars\n",
    "for bar, count in zip(bars, token_counts):\n",
    "    plt.text(bar.get_x() + bar.get_width()/2, bar.get_height() + 5, \n",
    "             str(count), ha='center', va='bottom', fontweight='bold')\n",
    "\n",
    "plt.tight_layout()\n",
    "plt.show()"
   ]
  },
  {
   "cell_type": "markdown",
   "metadata": {},
   "source": [
    "## 9. Key Insights\n",
    "\n",
    "Summary of SSMG's advantages demonstrated in this notebook."
   ]
  },
  {
   "cell_type": "code",
   "execution_count": 15,
   "metadata": {},
   "outputs": [
    {
     "name": "stdout",
     "output_type": "stream",
     "text": [
      "🎯 SSMG Demo Key Insights:\n",
      "\n",
      "1. **Context Efficiency**:\n",
      "   - SSMG uses 89.7% fewer tokens than full history\n",
      "   - Maintains structured context vs. raw conversation history\n",
      "\n",
      "2. **Constraint Persistence**:\n",
      "   - User preferences (avoid onions, allergies) maintained across turns\n",
      "   - High-priority constraints protected from eviction\n",
      "\n",
      "3. **Reference Resolution**:\n",
      "   - Graph structure helps resolve pronouns and references\n",
      "   - Entity relationships tracked over time\n",
      "\n",
      "4. **Session Privacy**:\n",
      "   - All memory discarded at session end\n",
      "   - No persistent user data storage\n",
      "\n",
      "5. **Scalability**:\n",
      "   - Bounded memory usage (~50 nodes max)\n",
      "   - TTL eviction prevents unbounded growth\n",
      "📊 **Performance vs Baselines**:\n",
      "                context_tokens  latency\n",
      "method                                 \n",
      "SSMG                      29.0     0.40\n",
      "full_history             280.6     0.56\n",
      "sliding_window           276.2     0.41\n"
     ]
    }
   ],
   "source": [
    "print(\"🎯 SSMG Demo Key Insights:\\n\")\n",
    "\n",
    "print(\"1. **Context Efficiency**:\")\n",
    "print(f\"   - SSMG uses {savings_vs_full:.1f}% fewer tokens than full history\")\n",
    "print(f\"   - Maintains structured context vs. raw conversation history\\n\")\n",
    "\n",
    "print(\"2. **Constraint Persistence**:\")\n",
    "print(\"   - User preferences (avoid onions, allergies) maintained across turns\")\n",
    "print(\"   - High-priority constraints protected from eviction\\n\")\n",
    "\n",
    "print(\"3. **Reference Resolution**:\")\n",
    "print(\"   - Graph structure helps resolve pronouns and references\")\n",
    "print(\"   - Entity relationships tracked over time\\n\")\n",
    "\n",
    "print(\"4. **Session Privacy**:\")\n",
    "print(\"   - All memory discarded at session end\")\n",
    "print(\"   - No persistent user data storage\\n\")\n",
    "\n",
    "print(\"5. **Scalability**:\")\n",
    "print(\"   - Bounded memory usage (~50 nodes max)\")\n",
    "print(\"   - TTL eviction prevents unbounded growth\")\n",
    "\n",
    "print(\"📊 **Performance vs Baselines**:\")\n",
    "perf_df = df.groupby('method').agg({\n",
    "    'context_tokens': 'mean',\n",
    "    'latency': 'mean'\n",
    "}).round(2)\n",
    "\n",
    "print(perf_df)"
   ]
  },
  {
   "cell_type": "code",
   "execution_count": null,
   "metadata": {},
   "outputs": [],
   "source": []
  },
  {
   "cell_type": "markdown",
   "metadata": {},
   "source": [
    "## 10. Next Steps\n",
    "\n",
    "Try these extensions to explore SSMG further:\n",
    "\n",
    "- **Custom Dialogues**: Modify `test_dialogue` with your own conversations\n",
    "- **Parameter Tuning**: Adjust `max_nodes`, `max_ttl_turns` in graph config\n",
    "- **Different Domains**: Test on hotel booking, tech support, etc.\n",
    "- **Evaluation Metrics**: Run `evaluation/eval_runner.py` for comprehensive analysis\n",
    "- **Production Integration**: Connect to real LLM APIs (OpenAI, etc.)\n",
    "\n",
    "For more details, see the full evaluation in `notebooks/evaluation_analysis.ipynb`."
   ]
  },
  {
   "cell_type": "code",
   "execution_count": null,
   "metadata": {},
   "outputs": [],
   "source": []
  }
 ],
 "metadata": {
  "kernelspec": {
   "display_name": "Python 3",
   "language": "python",
   "name": "python3"
  },
  "language_info": {
   "codemirror_mode": {
    "name": "ipython",
    "version": 3
   },
   "file_extension": ".py",
   "mimetype": "text/x-python",
   "name": "python",
   "nbconvert_exporter": "python",
   "pygments_lexer": "ipython3",
   "version": "3.13.2"
  }
 },
 "nbformat": 4,
 "nbformat_minor": 4
}
